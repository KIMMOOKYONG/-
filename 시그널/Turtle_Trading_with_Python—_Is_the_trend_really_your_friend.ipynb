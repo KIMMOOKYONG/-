{
  "nbformat": 4,
  "nbformat_minor": 0,
  "metadata": {
    "colab": {
      "name": "Turtle Trading with Python— Is the trend really your friend?.ipynb",
      "provenance": [],
      "collapsed_sections": []
    },
    "kernelspec": {
      "name": "python3",
      "display_name": "Python 3"
    }
  },
  "cells": [
    {
      "cell_type": "code",
      "metadata": {
        "id": "oaYNAvYdVGcC",
        "colab_type": "code",
        "colab": {
          "base_uri": "https://localhost:8080/",
          "height": 365
        },
        "outputId": "4185412f-d3be-492f-e0c1-15668c06b8de"
      },
      "source": [
        "# install required packages\n",
        "!pip install yfinance --upgrade --no-cache-dir\n",
        "\n",
        "# import required libraries\n",
        "import numpy as np\n",
        "import pandas as pd\n",
        "import matplotlib.pyplot as plt\n",
        "import datetime as dt"
      ],
      "execution_count": 1,
      "outputs": [
        {
          "output_type": "stream",
          "text": [
            "Collecting yfinance\n",
            "  Downloading https://files.pythonhosted.org/packages/c2/31/8b374a12b90def92a4e27d0fc595fc43635f395984e36a075244d98bd265/yfinance-0.1.54.tar.gz\n",
            "Requirement already satisfied, skipping upgrade: pandas>=0.24 in /usr/local/lib/python3.6/dist-packages (from yfinance) (1.0.5)\n",
            "Requirement already satisfied, skipping upgrade: numpy>=1.15 in /usr/local/lib/python3.6/dist-packages (from yfinance) (1.18.5)\n",
            "Requirement already satisfied, skipping upgrade: requests>=2.20 in /usr/local/lib/python3.6/dist-packages (from yfinance) (2.23.0)\n",
            "Requirement already satisfied, skipping upgrade: multitasking>=0.0.7 in /usr/local/lib/python3.6/dist-packages (from yfinance) (0.0.9)\n",
            "Requirement already satisfied, skipping upgrade: python-dateutil>=2.6.1 in /usr/local/lib/python3.6/dist-packages (from pandas>=0.24->yfinance) (2.8.1)\n",
            "Requirement already satisfied, skipping upgrade: pytz>=2017.2 in /usr/local/lib/python3.6/dist-packages (from pandas>=0.24->yfinance) (2018.9)\n",
            "Requirement already satisfied, skipping upgrade: certifi>=2017.4.17 in /usr/local/lib/python3.6/dist-packages (from requests>=2.20->yfinance) (2020.6.20)\n",
            "Requirement already satisfied, skipping upgrade: chardet<4,>=3.0.2 in /usr/local/lib/python3.6/dist-packages (from requests>=2.20->yfinance) (3.0.4)\n",
            "Requirement already satisfied, skipping upgrade: idna<3,>=2.5 in /usr/local/lib/python3.6/dist-packages (from requests>=2.20->yfinance) (2.10)\n",
            "Requirement already satisfied, skipping upgrade: urllib3!=1.25.0,!=1.25.1,<1.26,>=1.21.1 in /usr/local/lib/python3.6/dist-packages (from requests>=2.20->yfinance) (1.24.3)\n",
            "Requirement already satisfied, skipping upgrade: six>=1.5 in /usr/local/lib/python3.6/dist-packages (from python-dateutil>=2.6.1->pandas>=0.24->yfinance) (1.15.0)\n",
            "Building wheels for collected packages: yfinance\n",
            "  Building wheel for yfinance (setup.py) ... \u001b[?25l\u001b[?25hdone\n",
            "  Created wheel for yfinance: filename=yfinance-0.1.54-py2.py3-none-any.whl size=22409 sha256=0eba19b7f4d4813f56c96310bfaa3a7fb29ed1bfccc6d32b3be97b95efbe71d3\n",
            "  Stored in directory: /tmp/pip-ephem-wheel-cache-4ofvvylv/wheels/f9/e3/5b/ec24dd2984b12d61e0abf26289746c2436a0e7844f26f2515c\n",
            "Successfully built yfinance\n",
            "Installing collected packages: yfinance\n",
            "Successfully installed yfinance-0.1.54\n"
          ],
          "name": "stdout"
        }
      ]
    },
    {
      "cell_type": "code",
      "metadata": {
        "id": "b6qX76vVVHx5",
        "colab_type": "code",
        "colab": {}
      },
      "source": [
        "# find today's date\n",
        "today = dt.date.today()\n",
        "# delta = 1 day time delta\n",
        "delta = dt.timedelta(days = 1)\n",
        "# end_delta = 10 years ago\n",
        "end_delta = dt.timedelta(days = 3652)\n",
        "\n",
        "# Set the end of the sample to yesterday\n",
        "end_of_sample = (today - delta)\n",
        "# Set the start of the sample to 10 years ago\n",
        "start_of_sample = (end_of_sample - end_delta)\n",
        "\n",
        "# Change the data format from a 'datetime' element to a string which can be interpreted by Yahoo! Finance\n",
        "end_of_sample = end_of_sample.isoformat()\n",
        "start_of_sample = start_of_sample.isoformat()"
      ],
      "execution_count": 2,
      "outputs": []
    },
    {
      "cell_type": "code",
      "metadata": {
        "id": "t-B-AXXXVM_0",
        "colab_type": "code",
        "colab": {
          "base_uri": "https://localhost:8080/",
          "height": 69
        },
        "outputId": "6b50727b-a857-47aa-d613-2c342e68e306"
      },
      "source": [
        "# use Datreader to import S&P500 Data within the defined sample period\n",
        "from pandas_datareader import data as pdr\n",
        "dataset = pdr.get_data_yahoo(\"^GSPC\", start=start_of_sample, end=end_of_sample).reset_index()"
      ],
      "execution_count": 3,
      "outputs": [
        {
          "output_type": "stream",
          "text": [
            "/usr/local/lib/python3.6/dist-packages/pandas_datareader/compat/__init__.py:7: FutureWarning: pandas.util.testing is deprecated. Use the functions in the public API at pandas.testing instead.\n",
            "  from pandas.util.testing import assert_frame_equal\n"
          ],
          "name": "stderr"
        }
      ]
    },
    {
      "cell_type": "code",
      "metadata": {
        "id": "vefcjHB3VPnZ",
        "colab_type": "code",
        "colab": {}
      },
      "source": [
        "# define the conditions under which the algorithm should trigger a buy order or sell order\n",
        "count = int(np.ceil(len(dataset) * 0.1))\n",
        "\n",
        "action = pd.DataFrame(index=dataset.index)\n",
        "action['trigger'] = 0.0\n",
        "action['trend'] = dataset['Adj Close']\n",
        "\n",
        "action['RollingMax'] = (action.trend.shift(1).rolling(count).max())\n",
        "action['RollingMin'] = (action.trend.shift(1).rolling(count).min())\n",
        "\n",
        "action.loc[action['RollingMax'] < action.trend, 'trigger'] = -1\n",
        "action.loc[action['RollingMin'] > action.trend, 'trigger'] = 1"
      ],
      "execution_count": 4,
      "outputs": []
    },
    {
      "cell_type": "code",
      "metadata": {
        "id": "dOoYw9hTVQtC",
        "colab_type": "code",
        "colab": {}
      },
      "source": [
        "# this executable is a decision function for the algorithm\n",
        "def trade(price_change, trigger, capital = 10_000, maximum_long = 1, maximum_short = 1,):\n",
        "    \"\"\"\n",
        "    price_change = S&P500 price change (Absolute Value)\n",
        "    trigger = 1 initiates a buy order, -1 initiates sell order\n",
        "    capital = The initial capital committed to algorithm (the _ acts as a comma for large values)\n",
        "    maximum_long = the maximum quantity that can be purchased in any one action\n",
        "    maximum_short = maximum quantity that can be sold in any one action (note the shortselling restriction)\n",
        "    \"\"\"\n",
        "    starting_capital = capital\n",
        "    sell_states = []\n",
        "    buy_states = []\n",
        "    inventory = 0\n",
        "\n",
        "    def buy(i, capital, inventory):\n",
        "        shares = capital // price_change[i]\n",
        "        if shares < 1:\n",
        "            print(\n",
        "                'day %d: total balances %f, not enough capital to buy a unit price %f'\n",
        "                % (i, capital, price_change[i])\n",
        "            )\n",
        "        else:\n",
        "            if shares > maximum_long:\n",
        "                buy_units = maximum_long\n",
        "            else:\n",
        "                buy_units = shares\n",
        "            capital -= buy_units * price_change[i]\n",
        "            inventory += buy_units\n",
        "            print(\n",
        "                'day %d: buy %d units at price %f, total balance %f'\n",
        "                % (i, buy_units, buy_units * price_change[i], capital)\n",
        "            )\n",
        "            buy_states.append(0)\n",
        "        return capital, inventory\n",
        "\n",
        "    for i in range(price_change.shape[0] - int(0.025 * len(dataset))):\n",
        "        state = trigger[i]\n",
        "        if state == 1:\n",
        "            capital, inventory = buy( i, capital, inventory)\n",
        "            buy_states.append(i)\n",
        "        elif state == -1:\n",
        "            if inventory == 0:\n",
        "                    print('day %d: cannot sell anything, inventory 0' % (i))\n",
        "            else:\n",
        "                if inventory > maximum_short:\n",
        "                    sell_units = maximum_short\n",
        "                else:\n",
        "                    sell_units = inventory\n",
        "                inventory -= sell_units\n",
        "                total_sell = sell_units * price_change[i]\n",
        "                capital += total_sell\n",
        "                try:\n",
        "                    invest = (\n",
        "                        (price_change[i] - price_change[buy_states[-1]])\n",
        "                        / price_change[buy_states[-1]]) * 100\n",
        "                except:\n",
        "                    invest = 0\n",
        "                print(\n",
        "                    'day %d, sell %d units at price %f, investment %f %%, total balance %f,'\n",
        "                    % (i, sell_units, total_sell, invest, capital))\n",
        "            sell_states.append(i)\n",
        "            \n",
        "    invest = ((capital - starting_capital) / starting_capital) * 100\n",
        "    total_gains = capital - starting_capital\n",
        "    return buy_states, sell_states, total_gains, invest"
      ],
      "execution_count": 5,
      "outputs": []
    },
    {
      "cell_type": "code",
      "metadata": {
        "id": "HtMw1x6DVVkT",
        "colab_type": "code",
        "colab": {}
      },
      "source": [
        "# we must pass arguments to the decision function\n",
        "buy_states, sell_states, total_gains, invest = trade(dataset['Adj Close'], action['trigger'])"
      ],
      "execution_count": null,
      "outputs": []
    },
    {
      "cell_type": "code",
      "metadata": {
        "id": "Plz1ccLhVYCW",
        "colab_type": "code",
        "colab": {}
      },
      "source": [
        "# Let's define a quick function which generates the Index returns, to allow benchmarking\n",
        "def Index_Returns(start_value, end_value):\n",
        "    return (((end_value - start_value) / start_value) -1) * 100\n",
        "\n",
        "# We can pass this function the required arguments to calculate a simple return\n",
        "SP_500_Returns = Index_Returns(dataset['Adj Close'].iloc[0], dataset['Adj Close'].iloc[-1])"
      ],
      "execution_count": 7,
      "outputs": []
    },
    {
      "cell_type": "code",
      "metadata": {
        "id": "82dTDCBHVbaf",
        "colab_type": "code",
        "colab": {
          "base_uri": "https://localhost:8080/",
          "height": 335
        },
        "outputId": "620a5145-da9c-4f57-a770-d08c5f227dfe"
      },
      "source": [
        "# Plot the S&P500 Closing Price\n",
        "value = dataset['Adj Close']\n",
        "fig = plt.figure(figsize = (15,5))\n",
        "plt.plot(value, color='b', lw=2.)\n",
        "\n",
        "# Plot the Entry and Exit Signals generated by the algorithm\n",
        "plt.plot(value, '^', markersize=8, color='g', label = 'Trigger Entry', markevery = buy_states)\n",
        "plt.plot(value, 'v', markersize=8, color='r', label = 'Trigger Exit', markevery = sell_states)\n",
        "\n",
        "# Chart Title displaying the Absolute Returns, Return on Capital & Benchmark Returns\n",
        "plt.title('Absolute Returns: $%f, Return on Capital: %f%%, Benchmark Return: %f%%'%(round(total_gains,2), round(invest,2), round(SP_500_Returns,2)))\n",
        "plt.legend()\n",
        "plt.show();"
      ],
      "execution_count": 8,
      "outputs": [
        {
          "output_type": "display_data",
          "data": {
            "image/png": "[encoded data removed]",
            "text/plain": [
              "<Figure size 1080x360 with 1 Axes>"
            ]
          },
          "metadata": {
            "tags": [],
            "needs_background": "light"
          }
        }
      ]
    }
  ]
}
